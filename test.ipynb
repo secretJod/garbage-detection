{
 "cells": [
  {
   "cell_type": "code",
   "execution_count": 10,
   "id": "770037ce",
   "metadata": {},
   "outputs": [
    {
     "name": "stdout",
     "output_type": "stream",
     "text": [
      "🗑️ Total garbage items detected: 5\n",
      "⭐ Cleanliness Score: 8.2/10\n"
     ]
    }
   ],
   "source": [
    "from ultralytics import YOLO\n",
    "import cv2\n",
    "import os\n",
    "\n",
    "# Load your model\n",
    "model = YOLO(\"/Users/secret/my_project/garbage_detection/best (3).pt\")\n",
    "\n",
    "def split_image_into_tiles(image, tile_size=512):\n",
    "    tiles = []\n",
    "    h, w, _ = image.shape\n",
    "    for y in range(0, h, tile_size):\n",
    "        for x in range(0, w, tile_size):\n",
    "            tile = image[y:y+tile_size, x:x+tile_size]\n",
    "            tiles.append((tile, (x, y)))\n",
    "    return tiles\n",
    "\n",
    "def detect_on_tiles(model, tiles):\n",
    "    all_results = []\n",
    "    total_garbage = 0\n",
    "    total_garbage_area = 0  # To track total area of garbage\n",
    "\n",
    "    for tile, (x, y) in tiles:\n",
    "        temp_tile_path = f'temp_tile_{x}_{y}.jpg'\n",
    "        cv2.imwrite(temp_tile_path, tile)\n",
    "        \n",
    "        results = model.predict(temp_tile_path, conf=0.4, verbose=False)\n",
    "        all_results.append((results[0], x, y))\n",
    "        \n",
    "        # Calculate area of each detection\n",
    "        for box in results[0].boxes:\n",
    "            x1, y1, x2, y2 = map(int, box.xyxy[0])\n",
    "            width = x2 - x1\n",
    "            height = y2 - y1\n",
    "            total_garbage_area += width * height\n",
    "            \n",
    "        garbage_count = len(results[0].boxes)\n",
    "        total_garbage += garbage_count\n",
    "        \n",
    "        os.remove(temp_tile_path)\n",
    "\n",
    "    return all_results, total_garbage, total_garbage_area\n",
    "\n",
    "def calculate_cleanliness_score(image, total_garbage_area):\n",
    "    # Calculate coverage percentage\n",
    "    h, w = image.shape[:2]\n",
    "    total_pixels = h * w\n",
    "    coverage_percent = (total_garbage_area / total_pixels) * 100\n",
    "    \n",
    "    # Convert to 0-10 scale (10 = clean, 0 = completely dirty)\n",
    "    score = max(0, 10 - (coverage_percent / 10))  # Deduct 0.1 points per 1% coverage\n",
    "    return round(score, 1)\n",
    "\n",
    "# Main code\n",
    "img_path = \"/Users/secret/my_project/garbage_detection/142980439-many-garbage-and-dirty-streets-after-holy-festival-hari-raya-aidilfitri-ramzan-ramadan-in-kuala.jpg\"\n",
    "\n",
    "# Load image\n",
    "image = cv2.imread(img_path)\n",
    "\n",
    "if image is None:\n",
    "    print(\"Error: Could not load image\")\n",
    "else:\n",
    "    # Split into tiles\n",
    "    tiles = split_image_into_tiles(image, tile_size=512)\n",
    "    \n",
    "    # Detect garbage\n",
    "    all_results, total_garbage, total_area = detect_on_tiles(model, tiles)\n",
    "    \n",
    "    # Calculate cleanliness score\n",
    "    cleanliness_score = calculate_cleanliness_score(image, total_area)\n",
    "    \n",
    "    print(f\"🗑️ Total garbage items detected: {total_garbage}\")\n",
    "    print(f\"⭐ Cleanliness Score: {cleanliness_score}/10\")\n",
    "    \n",
    "    # Draw and display results\n",
    "    output_image = draw_detections_on_image(image, all_results)\n",
    "    cv2.imwrite('final_result.jpg', output_image)\n",
    "    cv2.imshow('Detected Garbage', output_image)\n",
    "    cv2.waitKey(0)\n",
    "    cv2.destroyAllWindows()"
   ]
  },
  {
   "cell_type": "code",
   "execution_count": 5,
   "id": "7bd4d137",
   "metadata": {},
   "outputs": [
    {
     "ename": "ModuleNotFoundError",
     "evalue": "No module named 'im_show'",
     "output_type": "error",
     "traceback": [
      "\u001b[0;31m---------------------------------------------------------------------------\u001b[0m",
      "\u001b[0;31mModuleNotFoundError\u001b[0m                       Traceback (most recent call last)",
      "Cell \u001b[0;32mIn[5], line 1\u001b[0m\n\u001b[0;32m----> 1\u001b[0m \u001b[38;5;28;01mimport\u001b[39;00m \u001b[38;5;21;01mim_show\u001b[39;00m\n",
      "\u001b[0;31mModuleNotFoundError\u001b[0m: No module named 'im_show'"
     ]
    }
   ],
   "source": [
    "import im_show"
   ]
  },
  {
   "cell_type": "code",
   "execution_count": null,
   "id": "0845eb2a",
   "metadata": {},
   "outputs": [],
   "source": []
  }
 ],
 "metadata": {
  "kernelspec": {
   "display_name": "base",
   "language": "python",
   "name": "python3"
  },
  "language_info": {
   "codemirror_mode": {
    "name": "ipython",
    "version": 3
   },
   "file_extension": ".py",
   "mimetype": "text/x-python",
   "name": "python",
   "nbconvert_exporter": "python",
   "pygments_lexer": "ipython3",
   "version": "3.12.2"
  }
 },
 "nbformat": 4,
 "nbformat_minor": 5
}
